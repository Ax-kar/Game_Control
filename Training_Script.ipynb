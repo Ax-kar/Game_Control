{
 "cells": [
  {
   "cell_type": "markdown",
   "metadata": {},
   "source": [
    "# Importing YOLO Model"
   ]
  },
  {
   "cell_type": "code",
   "execution_count": null,
   "metadata": {},
   "outputs": [],
   "source": [
    "\n",
    "from ultralytics import YOLO"
   ]
  },
  {
   "cell_type": "markdown",
   "metadata": {},
   "source": [
    "# Path To Your YAML File"
   ]
  },
  {
   "cell_type": "code",
   "execution_count": null,
   "metadata": {},
   "outputs": [],
   "source": [
    "data_yaml = r'C:\\Users\\Administrator\\Desktop\\model_data\\dataset.yaml'"
   ]
  },
  {
   "cell_type": "markdown",
   "metadata": {},
   "source": [
    "# Making a YOLO Object"
   ]
  },
  {
   "cell_type": "code",
   "execution_count": null,
   "metadata": {},
   "outputs": [],
   "source": [
    "model = YOLO() \n"
   ]
  },
  {
   "cell_type": "markdown",
   "metadata": {},
   "source": [
    "# Labeling Images Using Labelimg"
   ]
  },
  {
   "cell_type": "code",
   "execution_count": null,
   "metadata": {},
   "outputs": [],
   "source": [
    "!pip install --upgrade pyqt5 lxml"
   ]
  },
  {
   "cell_type": "markdown",
   "metadata": {},
   "source": [
    "If the tool already exists"
   ]
  },
  {
   "cell_type": "code",
   "execution_count": null,
   "metadata": {},
   "outputs": [],
   "source": [
    "LABELING_PATH=r'C:\\Users\\Administrator\\Desktop\\ML_pro\\Tensorflow\\labelimg'"
   ]
  },
  {
   "cell_type": "markdown",
   "metadata": {},
   "source": [
    "Cloning files for Labelimg from git "
   ]
  },
  {
   "cell_type": "code",
   "execution_count": null,
   "metadata": {},
   "outputs": [],
   "source": [
    "if not os.path.exists(LABELING_PATH):\n",
    "!mkdir {LABELING_PATH}\n",
    "!git clone https://github.com/tzutalin/labelImg {LABELIMG_PATH}"
   ]
  },
  {
   "cell_type": "code",
   "execution_count": null,
   "metadata": {},
   "outputs": [],
   "source": [
    "if os.name == 'posix':\n",
    "    !make qt5py3\n",
    "if os.name =='nt':\n",
    "    !cd {LABELING_PATH} && pyrcc5 -o libs/resources.py resources.qrc"
   ]
  },
  {
   "cell_type": "markdown",
   "metadata": {},
   "source": [
    "To Open The Labelimg Tool"
   ]
  },
  {
   "cell_type": "code",
   "execution_count": null,
   "metadata": {},
   "outputs": [],
   "source": [
    "!cd {LABELING_PATH} && python labelImg.py"
   ]
  },
  {
   "cell_type": "markdown",
   "metadata": {},
   "source": [
    "# Training Model"
   ]
  },
  {
   "cell_type": "markdown",
   "metadata": {},
   "source": [
    "The parameters can be adjusted accordingly "
   ]
  },
  {
   "cell_type": "code",
   "execution_count": null,
   "metadata": {},
   "outputs": [],
   "source": [
    "model.train(data=data_yaml, epochs=70, imgsz=640, batch=16)\n"
   ]
  },
  {
   "cell_type": "markdown",
   "metadata": {},
   "source": [
    "# Custom training script with early stopping"
   ]
  },
  {
   "cell_type": "markdown",
   "metadata": {},
   "source": [
    "This code is much better as it involves early stopping which saves alot of time"
   ]
  },
  {
   "cell_type": "code",
   "execution_count": null,
   "metadata": {},
   "outputs": [],
   "source": [
    "\n",
    "# Load the YOLO model\n",
    "model = YOLO('best.pt')\n",
    "\n",
    "# Set up the dataset path\n",
    "data_path = ''\n",
    "\n",
    "# Define training parameters\n",
    "epochs = 100\n",
    "early_stopping_patience = 10\n",
    "\n",
    "# Initialize custom callbacks\n",
    "callbacks = CustomCallbacks()\n",
    "\n",
    "# Train the model\n",
    "model.train(\n",
    "    data=data_path,\n",
    "    epochs=epochs,\n",
    "    imgsz=640,\n",
    "    batch_size=16,\n",
    "    workers=2,\n",
    "    callbacks=callbacks,\n",
    "    patience=early_stopping_patience,\n",
    "    project='yolo_training_logs',  # Directory to save logs and models\n",
    "    name='yolo_model'  # Name of the experiment\n",
    ")"
   ]
  },
  {
   "cell_type": "markdown",
   "metadata": {},
   "source": [
    "# Saving Trained Model"
   ]
  },
  {
   "cell_type": "markdown",
   "metadata": {},
   "source": [
    "The code to save the model is a bit complex as it involves saving the model in case there is no such directory."
   ]
  },
  {
   "cell_type": "markdown",
   "metadata": {},
   "source": []
  },
  {
   "cell_type": "code",
   "execution_count": null,
   "metadata": {},
   "outputs": [],
   "source": [
    "import os\n",
    "# Define the base directory and model filename\n",
    "base_directory = r'C:\\Users\\Administrator\\Desktop\\final_custom_model'\n",
    "model_filename = 'custom_model.pt'\n",
    "\n",
    "# Function to save the model\n",
    "def save_model(model, directory, filename):\n",
    "    try:\n",
    "        os.makedirs(directory, exist_ok=True)\n",
    "        model_path = os.path.join(directory, filename)\n",
    "        model.save(model_path)\n",
    "        print(f\"Model saved successfully to: {model_path}\")\n",
    "        return True\n",
    "    except Exception as e:\n",
    "        print(f\"Error saving model to {directory}: {e}\")\n",
    "        return False\n",
    "\n",
    "# Save the trained model\n",
    "success = save_model(model, base_directory, model_filename)\n",
    "if not success:\n",
    "    # If the first attempt failed, create a new directory\n",
    "    new_directory = base_directory + '_backup'\n",
    "    print(f\"Attempting to save model to a new directory: {new_directory}\")\n",
    "    success = save_model(model, new_directory, model_filename)\n",
    "\n",
    "    if not success:\n",
    "        print(f\"Failed to save the model to both directories. Please check the paths and permissions.\")"
   ]
  },
  {
   "cell_type": "markdown",
   "metadata": {},
   "source": [
    "# Validating the model"
   ]
  },
  {
   "cell_type": "code",
   "execution_count": null,
   "metadata": {},
   "outputs": [],
   "source": [
    "metrics = model.val(data=data_yaml)\n",
    "\n",
    "# Print validation results\n",
    "print(f\"Validation metrics: {metrics}\")\n"
   ]
  },
  {
   "cell_type": "markdown",
   "metadata": {},
   "source": [
    "# Testing The Model"
   ]
  },
  {
   "cell_type": "code",
   "execution_count": null,
   "metadata": {},
   "outputs": [],
   "source": [
    "# Define the model path and other parameters\n",
    "model_path = r'C:\\Users\\Administrator\\Desktop\\final_custom_model\\best.pt'\n",
    "conf_threshold = 0.25\n",
    "source_dir = r'C:\\Users\\Administrator\\Desktop\\model_data\\final_test_correct_classes'\n",
    "save_results = True\n",
    "\n",
    "# Run prediction\n",
    "results = model.predict(source=source_dir, conf=conf_threshold, save=save_results,project=r'C:\\Users\\Administrator\\Desktop\\test_data_results')"
   ]
  }
 ],
 "metadata": {
  "kernelspec": {
   "display_name": "Python 3",
   "language": "python",
   "name": "python3"
  },
  "language_info": {
   "codemirror_mode": {
    "name": "ipython",
    "version": 3
   },
   "file_extension": ".py",
   "mimetype": "text/x-python",
   "name": "python",
   "nbconvert_exporter": "python",
   "pygments_lexer": "ipython3",
   "version": "3.11.5"
  }
 },
 "nbformat": 4,
 "nbformat_minor": 2
}
